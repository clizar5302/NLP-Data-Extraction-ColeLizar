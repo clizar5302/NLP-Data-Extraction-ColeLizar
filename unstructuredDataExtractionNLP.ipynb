{
  "nbformat": 4,
  "nbformat_minor": 0,
  "metadata": {
    "colab": {
      "provenance": [],
      "authorship_tag": "ABX9TyOH644ZvwnJf4GoCRoNce7U",
      "include_colab_link": true
    },
    "kernelspec": {
      "name": "python3",
      "display_name": "Python 3"
    },
    "language_info": {
      "name": "python"
    }
  },
  "cells": [
    {
      "cell_type": "markdown",
      "metadata": {
        "id": "view-in-github",
        "colab_type": "text"
      },
      "source": [
        "<a href=\"https://colab.research.google.com/github/clizar5302/NLP-Data-Extraction-ColeLizar/blob/main/unstructuredDataExtractionNLP.ipynb\" target=\"_parent\"><img src=\"https://colab.research.google.com/assets/colab-badge.svg\" alt=\"Open In Colab\"/></a>"
      ]
    },
    {
      "cell_type": "markdown",
      "source": [
        "Set up the Environment"
      ],
      "metadata": {
        "id": "B6HcvM7LH4Ja"
      }
    },
    {
      "cell_type": "code",
      "source": [
        "!pip install spacy pandas\n",
        "!python -m spacy download en_core_web_sm"
      ],
      "metadata": {
        "id": "s4a0xk_hH5_6"
      },
      "execution_count": null,
      "outputs": []
    },
    {
      "cell_type": "markdown",
      "source": [
        "Load the Data"
      ],
      "metadata": {
        "id": "uFUTRco_IYrN"
      }
    },
    {
      "cell_type": "code",
      "source": [
        "import pandas as pd\n",
        "\n",
        "# Mock dataset\n",
        "data = {\n",
        "    \"documents\": [\n",
        "        \"Apple Inc. is based in Cupertino, California and was founded by Steve Jobs.\",\n",
        "        \"Tesla, headquartered in Palo Alto, is known for its electric cars.\",\n",
        "        \"Microsoft, founded by Bill Gates, is a technology company in Redmond.\"\n",
        "    ]\n",
        "}\n",
        "\n",
        "df = pd.DataFrame(data)\n",
        "print(df)"
      ],
      "metadata": {
        "id": "leAPwU4ZICat"
      },
      "execution_count": null,
      "outputs": []
    },
    {
      "cell_type": "markdown",
      "source": [
        "Load the Model"
      ],
      "metadata": {
        "id": "j9SpyMXZIegS"
      }
    },
    {
      "cell_type": "code",
      "source": [
        "import spacy\n",
        "\n",
        "# Load the spaCy model\n",
        "nlp = spacy.load('en_core_web_sm')"
      ],
      "metadata": {
        "id": "GWESvXA9IaNJ"
      },
      "execution_count": null,
      "outputs": []
    },
    {
      "cell_type": "markdown",
      "source": [
        "Process with NLP"
      ],
      "metadata": {
        "id": "4knzSPf1Ijtb"
      }
    },
    {
      "cell_type": "code",
      "source": [
        "# Function to extract entities from a document\n",
        "def extract_entities(doc):\n",
        "    entities = [(ent.text, ent.label_) for ent in doc.ents]\n",
        "    return entities\n",
        "\n",
        "# Apply the model to each document\n",
        "df['entities'] = df['documents'].apply(lambda x: extract_entities(nlp(x)))\n",
        "\n",
        "# View the results\n",
        "print(df[['documents', 'entities']])"
      ],
      "metadata": {
        "id": "vCyg7FPTIftR"
      },
      "execution_count": null,
      "outputs": []
    },
    {
      "cell_type": "markdown",
      "source": [
        "Organize and Structure the Data"
      ],
      "metadata": {
        "id": "hgfvDOXrIsgF"
      }
    },
    {
      "cell_type": "code",
      "source": [
        "# Convert extracted entities to a structured format\n",
        "structured_data = []\n",
        "\n",
        "for doc, entities in zip(df['documents'], df['entities']):\n",
        "    for entity, label in entities:\n",
        "        structured_data.append({'Document': doc, 'Entity': entity, 'Label': label})\n",
        "\n",
        "# Create a structured DataFrame\n",
        "structured_df = pd.DataFrame(structured_data)\n",
        "print(structured_df)\n",
        "\n",
        "# Save to CSV\n",
        "structured_df.to_csv('extracted_entities.csv', index=False)"
      ],
      "metadata": {
        "id": "yq-mSzG8InW_"
      },
      "execution_count": null,
      "outputs": []
    }
  ]
}